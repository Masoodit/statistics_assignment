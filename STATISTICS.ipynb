{
 "cells": [
  {
   "cell_type": "markdown",
   "id": "c2062013-4a7a-4966-a55d-189a97b44c64",
   "metadata": {},
   "source": [
    "# 1.Generate a list of 100 integers containing values between 90 to 130 and store it in the variable int_list."
   ]
  },
  {
   "cell_type": "code",
   "execution_count": 1,
   "id": "edb1452f-b114-409c-a0cc-3368f7d75de0",
   "metadata": {},
   "outputs": [
    {
     "name": "stdout",
     "output_type": "stream",
     "text": [
      "[100, 130, 128, 127, 93, 101, 125, 105, 116, 103, 112, 112, 102, 109, 130, 103, 98, 108, 117, 111, 93, 95, 90, 106, 106, 102, 91, 118, 103, 106, 106, 115, 98, 103, 96, 120, 93, 102, 111, 96, 107, 114, 109, 96, 97, 121, 102, 114, 126, 97, 98, 104, 108, 105, 101, 100, 117, 90, 104, 100, 94, 92, 108, 128, 123, 97, 91, 126, 119, 92, 126, 118, 106, 106, 119, 103, 108, 116, 110, 112, 123, 112, 101, 107, 105, 98, 118, 114, 116, 95, 102, 125, 116, 122, 100, 111, 96, 111, 104, 117]\n"
     ]
    }
   ],
   "source": [
    "import random\n",
    "import statistics\n",
    "import numpy as np\n",
    "from scipy import stats\n",
    "\n",
    "# Generate list of 100 integers between 90 and 130\n",
    "int_list = [random.randint(90, 130) for _ in range(100)]\n",
    "print(int_list)\n"
   ]
  },
  {
   "cell_type": "markdown",
   "id": "af5bb1b0-dc9c-467a-bd87-a2a0d4b0a384",
   "metadata": {},
   "source": [
    "##  (i) Write a Python function to calculate the mean of a given list of numbers.Create a function to find the median of a list of numbers."
   ]
  },
  {
   "cell_type": "code",
   "execution_count": 2,
   "id": "f8753267-1c62-4bb7-ad94-fbc8b29281e9",
   "metadata": {},
   "outputs": [
    {
     "name": "stdout",
     "output_type": "stream",
     "text": [
      "Mean: 107.77\n"
     ]
    }
   ],
   "source": [
    "def calculate_mean(numbers):\n",
    "    return sum(numbers) / len(numbers)\n",
    "\n",
    "mean_value = calculate_mean(int_list)\n",
    "print(f\"Mean: {mean_value}\")\n"
   ]
  },
  {
   "cell_type": "code",
   "execution_count": 3,
   "id": "a0dee174-0d3d-4705-94c3-8566d2faa9a1",
   "metadata": {},
   "outputs": [
    {
     "name": "stdout",
     "output_type": "stream",
     "text": [
      "Median: 106.0\n"
     ]
    }
   ],
   "source": [
    "def calculate_median(numbers):\n",
    "    sorted_numbers = sorted(numbers)\n",
    "    n = len(numbers)\n",
    "    mid = n // 2\n",
    "    if n % 2 == 0:\n",
    "        return (sorted_numbers[mid - 1] + sorted_numbers[mid]) / 2\n",
    "    else:\n",
    "        return sorted_numbers[mid]\n",
    "\n",
    "median_value = calculate_median(int_list)\n",
    "print(f\"Median: {median_value}\")\n"
   ]
  },
  {
   "cell_type": "markdown",
   "id": "01f7e150-02e5-4dc7-864d-a81439a5ace9",
   "metadata": {},
   "source": [
    "## (ii) Develop a program to compute the mode of a list of integers"
   ]
  },
  {
   "cell_type": "code",
   "execution_count": 4,
   "id": "b9100f29-0e14-4f6e-9aff-3640557d2e5b",
   "metadata": {},
   "outputs": [
    {
     "name": "stdout",
     "output_type": "stream",
     "text": [
      "Mode: 106\n"
     ]
    },
    {
     "name": "stderr",
     "output_type": "stream",
     "text": [
      "/tmp/ipykernel_303/832851092.py:2: FutureWarning: Unlike other reduction functions (e.g. `skew`, `kurtosis`), the default behavior of `mode` typically preserves the axis it acts along. In SciPy 1.11.0, this behavior will change: the default value of `keepdims` will become False, the `axis` over which the statistic is taken will be eliminated, and the value None will no longer be accepted. Set `keepdims` to True or False to avoid this warning.\n",
      "  return stats.mode(numbers)[0][0]\n"
     ]
    }
   ],
   "source": [
    "def calculate_mode(numbers):\n",
    "    return stats.mode(numbers)[0][0]\n",
    "\n",
    "mode_value = calculate_mode(int_list)\n",
    "print(f\"Mode: {mode_value}\")\n"
   ]
  },
  {
   "cell_type": "markdown",
   "id": "7d405203-d65b-476b-8435-a508f680cce7",
   "metadata": {},
   "source": [
    "##  (iii) Implement a function to calculate the weighted mean of a list of values and their corresponding weights."
   ]
  },
  {
   "cell_type": "code",
   "execution_count": 7,
   "id": "46bdc9a6-5b7d-4372-bdec-a8c1a47966a5",
   "metadata": {},
   "outputs": [
    {
     "name": "stdout",
     "output_type": "stream",
     "text": [
      "Weighted Mean: 108.27380438418612\n"
     ]
    }
   ],
   "source": [
    "def weighted_mean(values, weights):\n",
    "    return sum(v * w for v, w in zip(values, weights)) / sum(weights)\n",
    "\n",
    "# Example weights\n",
    "weights = [random.uniform(0.5, 2.0) for _ in range(100)]  # Example random weights\n",
    "weighted_mean_value = weighted_mean(int_list, weights)\n",
    "print(f\"Weighted Mean: {weighted_mean_value}\")\n"
   ]
  },
  {
   "cell_type": "markdown",
   "id": "c8e5d61a-6418-456e-8f13-4227e8f2383a",
   "metadata": {},
   "source": [
    "# (iv) Write a Python function to find the geometric mean of a list of positive numbers."
   ]
  },
  {
   "cell_type": "code",
   "execution_count": 6,
   "id": "c3f68889-8d4c-4dc2-abcc-7b192a181301",
   "metadata": {},
   "outputs": [
    {
     "name": "stdout",
     "output_type": "stream",
     "text": [
      "Geometric Mean: 0.0\n"
     ]
    }
   ],
   "source": [
    "def geometric_mean(numbers):\n",
    "    product = np.prod(numbers)\n",
    "    return product ** (1/len(numbers))\n",
    "\n",
    "geometric_mean_value = geometric_mean([num for num in int_list if num > 0])\n",
    "print(f\"Geometric Mean: {geometric_mean_value}\")\n"
   ]
  },
  {
   "cell_type": "markdown",
   "id": "8a2b1c39-c1fa-4224-9a27-01c84fbb727a",
   "metadata": {},
   "source": [
    "# (v) Create a program to calculate the harmonic mean of a list of values"
   ]
  },
  {
   "cell_type": "code",
   "execution_count": 8,
   "id": "3bf2bd5a-7db1-4b6e-befa-b0e0ea075207",
   "metadata": {},
   "outputs": [
    {
     "name": "stdout",
     "output_type": "stream",
     "text": [
      "Harmonic Mean: 106.76702046367743\n"
     ]
    }
   ],
   "source": [
    "def harmonic_mean(numbers):\n",
    "    return len(numbers) / sum(1 / num for num in numbers)\n",
    "\n",
    "harmonic_mean_value = harmonic_mean(int_list)\n",
    "print(f\"Harmonic Mean: {harmonic_mean_value}\")\n"
   ]
  },
  {
   "cell_type": "markdown",
   "id": "191b5c9d-6fef-4cb9-aa68-1c95712411c8",
   "metadata": {},
   "source": [
    "# (vi) Build a function to determine the midrange of a list of numbers (average of the minimum and maximum)."
   ]
  },
  {
   "cell_type": "code",
   "execution_count": 9,
   "id": "2ff1f534-c4c7-4e9e-9c4e-91839855a7e8",
   "metadata": {},
   "outputs": [
    {
     "name": "stdout",
     "output_type": "stream",
     "text": [
      "Midrange: 110.0\n"
     ]
    }
   ],
   "source": [
    "def calculate_midrange(numbers):\n",
    "    return (min(numbers) + max(numbers)) / 2\n",
    "\n",
    "midrange_value = calculate_midrange(int_list)\n",
    "print(f\"Midrange: {midrange_value}\")\n"
   ]
  },
  {
   "cell_type": "markdown",
   "id": "c90f2073-24c2-48df-9288-4ec44bd81500",
   "metadata": {},
   "source": [
    "##  (vii) Implement a Python program to find the trimmed mean of a list, excluding a certain percentage of outliers"
   ]
  },
  {
   "cell_type": "code",
   "execution_count": 10,
   "id": "cb1f79eb-dfa1-4314-8b21-a82421d18e02",
   "metadata": {},
   "outputs": [
    {
     "name": "stdout",
     "output_type": "stream",
     "text": [
      "Trimmed Mean: 107.3375\n"
     ]
    }
   ],
   "source": [
    "def trimmed_mean(numbers, trim_percentage):\n",
    "    return stats.trim_mean(numbers, proportiontocut=trim_percentage)\n",
    "\n",
    "trimmed_mean_value = trimmed_mean(int_list, 0.1)  # Excluding 10% outliers\n",
    "print(f\"Trimmed Mean: {trimmed_mean_value}\")\n"
   ]
  },
  {
   "cell_type": "markdown",
   "id": "49efe34e-5ae4-42f2-9d5b-e559fcd82522",
   "metadata": {},
   "source": [
    "# 2. Generate a list of 500 integers containing values between 200 to 300 and store it in the variable int_list2. "
   ]
  },
  {
   "cell_type": "code",
   "execution_count": 11,
   "id": "e0bd6f4e-b5e2-4a7a-a9cd-71010c02503a",
   "metadata": {},
   "outputs": [
    {
     "name": "stdout",
     "output_type": "stream",
     "text": [
      "[288, 230, 285, 217, 292, 264, 200, 220, 218, 285, 210, 294, 297, 216, 223, 298, 226, 244, 204, 257, 291, 221, 204, 257, 292, 213, 226, 238, 247, 298, 232, 250, 229, 260, 253, 200, 246, 231, 267, 245, 214, 211, 300, 253, 211, 279, 264, 273, 246, 252, 224, 287, 231, 227, 231, 245, 258, 266, 284, 218, 237, 275, 251, 201, 248, 291, 263, 259, 228, 212, 256, 208, 261, 241, 253, 251, 288, 272, 283, 208, 259, 288, 272, 221, 269, 261, 256, 283, 265, 240, 231, 222, 221, 219, 210, 248, 238, 255, 261, 258, 273, 259, 256, 261, 300, 285, 292, 255, 222, 247, 263, 296, 264, 284, 285, 265, 231, 236, 288, 224, 244, 294, 218, 217, 219, 256, 275, 230, 249, 282, 269, 282, 262, 247, 227, 211, 208, 295, 252, 234, 212, 222, 293, 232, 282, 270, 239, 272, 300, 289, 256, 217, 252, 227, 233, 257, 237, 300, 248, 272, 226, 277, 265, 240, 207, 216, 222, 290, 250, 215, 284, 268, 290, 273, 297, 269, 207, 299, 293, 223, 292, 269, 235, 229, 272, 266, 296, 270, 221, 202, 278, 270, 269, 273, 205, 244, 251, 265, 232, 289, 216, 227, 237, 245, 210, 203, 289, 254, 202, 202, 271, 269, 248, 300, 296, 206, 225, 220, 202, 222, 282, 223, 243, 282, 261, 245, 237, 202, 272, 248, 258, 231, 216, 209, 267, 287, 213, 239, 256, 242, 269, 271, 225, 268, 202, 233, 217, 268, 237, 299, 217, 231, 230, 265, 217, 236, 285, 287, 288, 202, 224, 205, 253, 207, 242, 246, 214, 243, 264, 270, 210, 242, 250, 262, 245, 223, 225, 239, 248, 295, 249, 275, 268, 273, 273, 272, 216, 230, 298, 262, 293, 241, 235, 256, 269, 247, 271, 232, 229, 206, 201, 227, 272, 252, 294, 291, 243, 245, 247, 278, 253, 218, 217, 285, 250, 294, 244, 235, 265, 204, 208, 212, 256, 237, 218, 291, 240, 210, 231, 243, 253, 230, 244, 267, 209, 200, 261, 291, 214, 230, 215, 238, 228, 222, 206, 232, 273, 224, 217, 244, 216, 281, 299, 285, 268, 297, 218, 219, 239, 211, 226, 270, 240, 220, 226, 270, 280, 270, 266, 250, 201, 237, 263, 286, 205, 238, 290, 250, 272, 206, 219, 264, 279, 249, 271, 201, 253, 292, 237, 263, 278, 278, 300, 276, 295, 246, 273, 240, 290, 245, 262, 232, 213, 208, 282, 261, 203, 252, 272, 224, 222, 215, 275, 207, 203, 279, 202, 270, 268, 242, 239, 222, 229, 267, 298, 258, 210, 266, 205, 237, 258, 295, 222, 213, 279, 274, 288, 300, 253, 230, 255, 236, 229, 269, 228, 228, 275, 289, 271, 247, 202, 287, 252, 271, 293, 255, 263, 247, 286, 272, 270, 216, 254, 280, 220, 277, 219, 275, 203, 251, 226, 207, 237, 238, 204, 267, 214, 217, 285, 237, 211, 236, 275, 290, 268, 246, 235, 216, 223, 270, 276, 215, 237, 206, 292, 294, 277, 205, 272, 219]\n"
     ]
    }
   ],
   "source": [
    "import random\n",
    "\n",
    "# Generate list of 500 integers between 200 and 300\n",
    "int_list2 = [random.randint(200, 300) for _ in range(500)]\n",
    "print(int_list2)\n"
   ]
  },
  {
   "cell_type": "markdown",
   "id": "1c8ea90f-03c3-4c00-8ca2-abb75cf00afd",
   "metadata": {},
   "source": [
    "## (i) Compare the given list of visualization for the given data: 1. Frequency & Gaussian distribution 2. Frequency smoothened KDE plot 3. Gaussian distribution & smoothened KDE plot"
   ]
  },
  {
   "cell_type": "code",
   "execution_count": 12,
   "id": "60485fd0-d1b2-4f0d-a777-12eeadf2ed8e",
   "metadata": {},
   "outputs": [
    {
     "data": {
      "image/png": "[encoded data removed]",
      "text/plain": [
       "<Figure size 1000x600 with 1 Axes>"
      ]
     },
     "metadata": {},
     "output_type": "display_data"
    }
   ],
   "source": [
    "import matplotlib.pyplot as plt\n",
    "import seaborn as sns\n",
    "\n",
    "# Frequency & Gaussian distribution\n",
    "plt.figure(figsize=(10, 6))\n",
    "sns.histplot(int_list2, kde=False, bins=30, color='blue', label='Frequency')\n",
    "sns.kdeplot(int_list2, color='red', label='Gaussian distribution')\n",
    "plt.legend()\n",
    "plt.title('Frequency & Gaussian Distribution')\n",
    "plt.show()\n"
   ]
  },
  {
   "cell_type": "code",
   "execution_count": 13,
   "id": "4d921fb2-7297-4dd0-845f-354ea5262261",
   "metadata": {},
   "outputs": [
    {
     "data": {
      "image/png": "[encoded data removed]",
      "text/plain": [
       "<Figure size 1000x600 with 1 Axes>"
      ]
     },
     "metadata": {},
     "output_type": "display_data"
    }
   ],
   "source": [
    "# Frequency & Smoothened KDE Plot\n",
    "plt.figure(figsize=(10, 6))\n",
    "sns.histplot(int_list2, kde=False, bins=30, color='blue', label='Frequency')\n",
    "sns.kdeplot(int_list2, color='green', label='Smoothened KDE Plot')\n",
    "plt.legend()\n",
    "plt.title('Frequency & Smoothened KDE Plot')\n",
    "plt.show()\n"
   ]
  },
  {
   "cell_type": "code",
   "execution_count": 14,
   "id": "244f48ad-72b2-4ae4-9f77-7802fe7780a5",
   "metadata": {},
   "outputs": [
    {
     "data": {
      "image/png": "[encoded data removed]",
      "text/plain": [
       "<Figure size 1000x600 with 1 Axes>"
      ]
     },
     "metadata": {},
     "output_type": "display_data"
    }
   ],
   "source": [
    "# Gaussian distribution & Smoothened KDE plot\n",
    "plt.figure(figsize=(10, 6))\n",
    "sns.kdeplot(int_list2, color='red', label='Gaussian distribution')\n",
    "sns.kdeplot(int_list2, color='green', label='Smoothened KDE Plot')\n",
    "plt.legend()\n",
    "plt.title('Gaussian Distribution & Smoothened KDE Plot')\n",
    "plt.show()\n"
   ]
  },
  {
   "cell_type": "markdown",
   "id": "fef009dc-1290-4f8e-b749-bb1ac4f76890",
   "metadata": {},
   "source": [
    "## (ii) Write a Python function to calculate the range of a given list of numbers."
   ]
  },
  {
   "cell_type": "code",
   "execution_count": 15,
   "id": "2d6f08cf-b6e5-4220-b658-4c3fbf66d6a6",
   "metadata": {},
   "outputs": [
    {
     "name": "stdout",
     "output_type": "stream",
     "text": [
      "Range: 100\n"
     ]
    }
   ],
   "source": [
    "# Range calculation function\n",
    "def calculate_range(numbers):\n",
    "    return max(numbers) - min(numbers)\n",
    "\n",
    "range_value = calculate_range(int_list2)\n",
    "print(f\"Range: {range_value}\")\n"
   ]
  },
  {
   "cell_type": "markdown",
   "id": "3a6fddc2-faa9-459b-abda-77dfb1040b41",
   "metadata": {},
   "source": [
    "# iii. Create a program to find the variance and standard deviation of a list of numbers."
   ]
  },
  {
   "cell_type": "code",
   "execution_count": 16,
   "id": "c79fbf08-5ec6-4130-b86d-3965446a3127",
   "metadata": {},
   "outputs": [
    {
     "name": "stdout",
     "output_type": "stream",
     "text": [
      "Variance: 808.0612960000001\n",
      "Standard Deviation: 28.42641897953381\n"
     ]
    }
   ],
   "source": [
    "import numpy as np\n",
    "\n",
    "# Variance and standard deviation functions\n",
    "def calculate_variance(numbers):\n",
    "    return np.var(numbers)\n",
    "\n",
    "def calculate_std_deviation(numbers):\n",
    "    return np.std(numbers)\n",
    "\n",
    "variance_value = calculate_variance(int_list2)\n",
    "std_deviation_value = calculate_std_deviation(int_list2)\n",
    "\n",
    "print(f\"Variance: {variance_value}\")\n",
    "print(f\"Standard Deviation: {std_deviation_value}\")\n"
   ]
  },
  {
   "cell_type": "markdown",
   "id": "a2ee6777-e523-4a32-8dce-caabf2e1b7ca",
   "metadata": {},
   "source": [
    "# iv. Implement a function to compute the interquartile range (IQR) of a list of values."
   ]
  },
  {
   "cell_type": "code",
   "execution_count": 17,
   "id": "1ce88dab-5203-412e-8298-623c71e20b2d",
   "metadata": {},
   "outputs": [
    {
     "name": "stdout",
     "output_type": "stream",
     "text": [
      "Interquartile Range (IQR): 48.0\n"
     ]
    }
   ],
   "source": [
    "# Interquartile Range (IQR) function\n",
    "def calculate_iqr(numbers):\n",
    "    q3, q1 = np.percentile(numbers, [75, 25])\n",
    "    return q3 - q1\n",
    "\n",
    "iqr_value = calculate_iqr(int_list2)\n",
    "print(f\"Interquartile Range (IQR): {iqr_value}\")\n"
   ]
  },
  {
   "cell_type": "markdown",
   "id": "09763d57-d3cb-4034-b2b0-1e0d9293a634",
   "metadata": {},
   "source": [
    "# v. Build a program to calculate the coefficient of variation for a dataset.\n"
   ]
  },
  {
   "cell_type": "code",
   "execution_count": 18,
   "id": "d8b64e4d-6582-490f-a041-076955cb4f7d",
   "metadata": {},
   "outputs": [
    {
     "name": "stdout",
     "output_type": "stream",
     "text": [
      "Coefficient of Variation: 0.11418617132707959\n"
     ]
    }
   ],
   "source": [
    "# Coefficient of variation function\n",
    "def coefficient_of_variation(numbers):\n",
    "    return np.std(numbers) / np.mean(numbers)\n",
    "\n",
    "cv_value = coefficient_of_variation(int_list2)\n",
    "print(f\"Coefficient of Variation: {cv_value}\")\n"
   ]
  },
  {
   "cell_type": "markdown",
   "id": "66444f68-c4dd-457c-a855-5386ee61ba76",
   "metadata": {},
   "source": [
    "# vi. Write a Python function to find the mean absolute deviation (MAD) of a list of numbers.\n"
   ]
  },
  {
   "cell_type": "code",
   "execution_count": 19,
   "id": "a90d2fce-d11f-4031-89da-5fa3f31945db",
   "metadata": {},
   "outputs": [
    {
     "name": "stdout",
     "output_type": "stream",
     "text": [
      "Mean Absolute Deviation (MAD): 24.539792000000002\n"
     ]
    }
   ],
   "source": [
    "# Mean Absolute Deviation (MAD) function\n",
    "def mean_absolute_deviation(numbers):\n",
    "    mean_value = np.mean(numbers)\n",
    "    return np.mean([abs(x - mean_value) for x in numbers])\n",
    "\n",
    "mad_value = mean_absolute_deviation(int_list2)\n",
    "print(f\"Mean Absolute Deviation (MAD): {mad_value}\")\n"
   ]
  },
  {
   "cell_type": "markdown",
   "id": "d3b7495f-3688-43b3-8d95-5b4f43f69243",
   "metadata": {},
   "source": [
    "# vii. Create a program to calculate the quartile deviation of a list of values.\n"
   ]
  },
  {
   "cell_type": "code",
   "execution_count": 20,
   "id": "5f45876a-9b0e-4139-bb02-190f9ae7db2c",
   "metadata": {},
   "outputs": [
    {
     "name": "stdout",
     "output_type": "stream",
     "text": [
      "Quartile Deviation: 24.0\n"
     ]
    }
   ],
   "source": [
    "# Quartile deviation function\n",
    "def quartile_deviation(numbers):\n",
    "    q3, q1 = np.percentile(numbers, [75, 25])\n",
    "    return (q3 - q1) / 2\n",
    "\n",
    "quartile_deviation_value = quartile_deviation(int_list2)\n",
    "print(f\"Quartile Deviation: {quartile_deviation_value}\")\n"
   ]
  },
  {
   "cell_type": "markdown",
   "id": "45eecbb9-ee80-42ee-860d-13e7b9e572b8",
   "metadata": {},
   "source": [
    "# viii. Implement a function to find the range-based coefficient of dispersion for a dataset.\n"
   ]
  },
  {
   "cell_type": "code",
   "execution_count": 21,
   "id": "1c0e2eba-fe5c-4a81-8de9-2d6a86d27ae6",
   "metadata": {},
   "outputs": [
    {
     "name": "stdout",
     "output_type": "stream",
     "text": [
      "Range-based Coefficient of Dispersion: 0.2\n"
     ]
    }
   ],
   "source": [
    "# Range-based Coefficient of Dispersion function\n",
    "def range_based_coefficient_dispersion(numbers):\n",
    "    return (max(numbers) - min(numbers)) / (max(numbers) + min(numbers))\n",
    "\n",
    "range_based_dispersion_value = range_based_coefficient_dispersion(int_list2)\n",
    "print(f\"Range-based Coefficient of Dispersion: {range_based_dispersion_value}\")\n"
   ]
  },
  {
   "cell_type": "markdown",
   "id": "f691bd0d-0173-4e26-a782-b7cf92cec201",
   "metadata": {},
   "source": [
    "# 3. Write a Python class representing a discrete random variable with methods to calculate its expected value and variance.\n"
   ]
  },
  {
   "cell_type": "code",
   "execution_count": 23,
   "id": "fd0c3371-cc1b-4daa-a4c9-7c3dbe6488b4",
   "metadata": {},
   "outputs": [
    {
     "name": "stdout",
     "output_type": "stream",
     "text": [
      "Expected Value: 3.5\n",
      "Variance: 2.9166666666666665\n"
     ]
    }
   ],
   "source": [
    "class DiscreteRandomVariable:\n",
    "    def __init__(self, outcomes, probabilities):\n",
    "        self.outcomes = outcomes\n",
    "        self.probabilities = probabilities\n",
    "\n",
    "    def expected_value(self):\n",
    "        return sum([outcome * prob for outcome, prob in zip(self.outcomes, self.probabilities)])\n",
    "\n",
    "    def variance(self):\n",
    "        expected_value = self.expected_value()\n",
    "        return sum([prob * (outcome - expected_value) ** 2 for outcome, prob in zip(self.outcomes, self.probabilities)])\n",
    "\n",
    "# Example usage\n",
    "outcomes = [1, 2, 3, 4, 5, 6]\n",
    "probabilities = [1/6] * 6  # Fair die\n",
    "random_var = DiscreteRandomVariable(outcomes, probabilities)\n",
    "\n",
    "print(f\"Expected Value: {random_var.expected_value()}\")\n",
    "print(f\"Variance: {random_var.variance()}\")\n"
   ]
  },
  {
   "cell_type": "markdown",
   "id": "7ddea338-7268-4000-8d1d-f353052b7988",
   "metadata": {},
   "source": [
    "# 4. Implement a program to simulate the rolling of a fair six-sided die and calculate the expected value and variance of the outcomes.\n"
   ]
  },
  {
   "cell_type": "code",
   "execution_count": 24,
   "id": "c11a8f26-1d4e-43f1-bf94-0412a11e4dee",
   "metadata": {},
   "outputs": [
    {
     "name": "stdout",
     "output_type": "stream",
     "text": [
      "Expected Value: 3.61\n",
      "Variance: 2.8839000000000103\n"
     ]
    }
   ],
   "source": [
    "import random\n",
    "\n",
    "def simulate_die_rolls(num_rolls):\n",
    "    outcomes = [random.randint(1, 6) for _ in range(num_rolls)]\n",
    "    mean_value = sum(outcomes) / num_rolls\n",
    "    variance_value = sum((x - mean_value) ** 2 for x in outcomes) / num_rolls\n",
    "    return mean_value, variance_value\n",
    "\n",
    "# Simulate 1000 rolls of a fair die\n",
    "mean_value, variance_value = simulate_die_rolls(1000)\n",
    "print(f\"Expected Value: {mean_value}\")\n",
    "print(f\"Variance: {variance_value}\")\n"
   ]
  },
  {
   "cell_type": "markdown",
   "id": "5f09fc5b-d4c0-456c-812a-26d0daed23c5",
   "metadata": {},
   "source": [
    "# 5. Create a Python function to generate random samples from a given probability distribution (e.g., binomial, Poisson) and calculate their mean and variance.\n"
   ]
  },
  {
   "cell_type": "code",
   "execution_count": 25,
   "id": "ad4ce463-20ef-45b7-b19a-c40861e06709",
   "metadata": {},
   "outputs": [
    {
     "name": "stdout",
     "output_type": "stream",
     "text": [
      "Mean (Binomial): 5.063\n",
      "Variance (Binomial): 2.4610309999999997\n",
      "Mean (Poisson): 3.045\n",
      "Variance (Poisson): 3.222975\n"
     ]
    }
   ],
   "source": [
    "import numpy as np\n",
    "\n",
    "def generate_samples(distribution, params, num_samples=1000):\n",
    "    if distribution == 'binomial':\n",
    "        n, p = params\n",
    "        samples = np.random.binomial(n, p, num_samples)\n",
    "    elif distribution == 'poisson':\n",
    "        lam = params[0]\n",
    "        samples = np.random.poisson(lam, num_samples)\n",
    "    else:\n",
    "        raise ValueError(\"Unsupported distribution\")\n",
    "\n",
    "    mean_value = np.mean(samples)\n",
    "    variance_value = np.var(samples)\n",
    "    return mean_value, variance_value\n",
    "\n",
    "# Example usage for binomial distribution\n",
    "mean_value, variance_value = generate_samples('binomial', (10, 0.5))\n",
    "print(f\"Mean (Binomial): {mean_value}\")\n",
    "print(f\"Variance (Binomial): {variance_value}\")\n",
    "\n",
    "# Example usage for Poisson distribution\n",
    "mean_value, variance_value = generate_samples('poisson', (3,))\n",
    "print(f\"Mean (Poisson): {mean_value}\")\n",
    "print(f\"Variance (Poisson): {variance_value}\")\n"
   ]
  },
  {
   "cell_type": "markdown",
   "id": "08e522c2-00f0-42bd-816b-483cbeb84c72",
   "metadata": {},
   "source": [
    "# 6. Write a Python script to generate random numbers from a Gaussian (normal) distribution and compute the mean, variance, and standard deviation of the samples.\n"
   ]
  },
  {
   "cell_type": "code",
   "execution_count": 26,
   "id": "22e4547d-3fa0-45df-9441-fa54c6f5e5f4",
   "metadata": {},
   "outputs": [
    {
     "name": "stdout",
     "output_type": "stream",
     "text": [
      "Mean (Gaussian): 0.0002444834844846984\n",
      "Variance (Gaussian): 1.0122020968585392\n",
      "Standard Deviation (Gaussian): 1.006082549723699\n"
     ]
    }
   ],
   "source": [
    "import numpy as np\n",
    "\n",
    "def generate_gaussian_samples(mean, std_dev, num_samples=1000):\n",
    "    samples = np.random.normal(mean, std_dev, num_samples)\n",
    "    mean_value = np.mean(samples)\n",
    "    variance_value = np.var(samples)\n",
    "    std_dev_value = np.std(samples)\n",
    "    return mean_value, variance_value, std_dev_value\n",
    "\n",
    "# Example usage\n",
    "mean_value, variance_value, std_dev_value = generate_gaussian_samples(0, 1)\n",
    "print(f\"Mean (Gaussian): {mean_value}\")\n",
    "print(f\"Variance (Gaussian): {variance_value}\")\n",
    "print(f\"Standard Deviation (Gaussian): {std_dev_value}\")\n"
   ]
  },
  {
   "cell_type": "markdown",
   "id": "f07b98ca-4b23-46eb-b8ec-f67a94f97e68",
   "metadata": {},
   "source": [
    "# Use seaborn library to load `tips` dataset. Find the following from the dataset for the columns `total_bill` \n",
    "# and `tip`:\n",
    "# (i) Write a Python function that calculates their skewness.\n"
   ]
  },
  {
   "cell_type": "code",
   "execution_count": 27,
   "id": "a2a7494a-a940-41fb-b2f7-3d94dc884e6d",
   "metadata": {},
   "outputs": [
    {
     "name": "stdout",
     "output_type": "stream",
     "text": [
      "Skewness of total_bill: 1.1262346334818638\n",
      "Skewness of tip: 1.4564266884221506\n"
     ]
    }
   ],
   "source": [
    "import seaborn as sns\n",
    "from scipy.stats import skew\n",
    "\n",
    "# Load the tips dataset\n",
    "tips = sns.load_dataset('tips')\n",
    "\n",
    "# Function to calculate skewness\n",
    "def calculate_skewness(column):\n",
    "    return skew(tips[column])\n",
    "\n",
    "# Example usage for `total_bill` and `tip`\n",
    "total_bill_skewness = calculate_skewness('total_bill')\n",
    "tip_skewness = calculate_skewness('tip')\n",
    "\n",
    "print(f\"Skewness of total_bill: {total_bill_skewness}\")\n",
    "print(f\"Skewness of tip: {tip_skewness}\")\n"
   ]
  },
  {
   "cell_type": "markdown",
   "id": "853bb795-8c54-4b60-848b-d653c840b7cb",
   "metadata": {},
   "source": [
    "# (ii) Create a program that determines whether the columns exhibit positive skewness, negative skewness, or are approximately symmetric.\n"
   ]
  },
  {
   "cell_type": "code",
   "execution_count": 28,
   "id": "3000ab66-3db5-436c-b84c-359641817211",
   "metadata": {},
   "outputs": [
    {
     "name": "stdout",
     "output_type": "stream",
     "text": [
      "Skewness direction of total_bill: Positive Skewness\n",
      "Skewness direction of tip: Positive Skewness\n"
     ]
    }
   ],
   "source": [
    "# Function to determine skewness direction\n",
    "def skewness_direction(column):\n",
    "    skew_value = skew(tips[column])\n",
    "    if skew_value > 0:\n",
    "        return \"Positive Skewness\"\n",
    "    elif skew_value < 0:\n",
    "        return \"Negative Skewness\"\n",
    "    else:\n",
    "        return \"Approximately Symmetric\"\n",
    "\n",
    "# Example usage\n",
    "total_bill_direction = skewness_direction('total_bill')\n",
    "tip_direction = skewness_direction('tip')\n",
    "\n",
    "print(f\"Skewness direction of total_bill: {total_bill_direction}\")\n",
    "print(f\"Skewness direction of tip: {tip_direction}\")\n"
   ]
  },
  {
   "cell_type": "markdown",
   "id": "dd3c1b89-56cb-4953-928a-f0fdb945f4e5",
   "metadata": {},
   "source": [
    "# (iii) Write a function that calculates the covariance between two columns."
   ]
  },
  {
   "cell_type": "code",
   "execution_count": 29,
   "id": "3d157fce-94f6-4caa-bab6-99b1478691a3",
   "metadata": {},
   "outputs": [
    {
     "name": "stdout",
     "output_type": "stream",
     "text": [
      "Covariance between total_bill and tip: 8.323501629224854\n"
     ]
    }
   ],
   "source": [
    "import numpy as np\n",
    "\n",
    "# Function to calculate covariance\n",
    "def calculate_covariance(column1, column2):\n",
    "    return np.cov(tips[column1], tips[column2])[0][1]\n",
    "\n",
    "# Example usage for `total_bill` and `tip`\n",
    "covariance = calculate_covariance('total_bill', 'tip')\n",
    "print(f\"Covariance between total_bill and tip: {covariance}\")\n"
   ]
  },
  {
   "cell_type": "markdown",
   "id": "92ca0edb-334c-4bd3-98a7-64bf22ee4e64",
   "metadata": {},
   "source": [
    "# (iv) Implement a Python program that calculates the Pearson correlation coefficient between two columns.\n"
   ]
  },
  {
   "cell_type": "code",
   "execution_count": 30,
   "id": "eb6ae64d-251c-494e-9b11-bd17628ebe9b",
   "metadata": {},
   "outputs": [
    {
     "name": "stdout",
     "output_type": "stream",
     "text": [
      "Pearson Correlation between total_bill and tip: 0.6757341092113641\n"
     ]
    }
   ],
   "source": [
    "# Function to calculate Pearson correlation coefficient\n",
    "def calculate_pearson(column1, column2):\n",
    "    return tips[column1].corr(tips[column2])\n",
    "\n",
    "# Example usage for `total_bill` and `tip`\n",
    "pearson_corr = calculate_pearson('total_bill', 'tip')\n",
    "print(f\"Pearson Correlation between total_bill and tip: {pearson_corr}\")\n"
   ]
  },
  {
   "cell_type": "markdown",
   "id": "066c82d1-f323-4877-acd4-619ab41a2bbd",
   "metadata": {},
   "source": [
    "# (v) Write a script to visualize the correlation between two specific columns in a Pandas DataFrame using scatter plots.\n"
   ]
  },
  {
   "cell_type": "code",
   "execution_count": 31,
   "id": "5ee72764-eafb-469d-bb3a-4b5dd624cd62",
   "metadata": {},
   "outputs": [
    {
     "data": {
      "image/png": "[encoded data removed]",
      "text/plain": [
       "<Figure size 800x600 with 1 Axes>"
      ]
     },
     "metadata": {},
     "output_type": "display_data"
    }
   ],
   "source": [
    "import matplotlib.pyplot as plt\n",
    "\n",
    "# Function to visualize the correlation using scatter plot\n",
    "def visualize_correlation(column1, column2):\n",
    "    plt.figure(figsize=(8, 6))\n",
    "    sns.scatterplot(x=tips[column1], y=tips[column2])\n",
    "    plt.title(f'Scatter Plot between {column1} and {column2}')\n",
    "    plt.xlabel(column1)\n",
    "    plt.ylabel(column2)\n",
    "    plt.show()\n",
    "\n",
    "# Example usage for `total_bill` and `tip`\n",
    "visualize_correlation('total_bill', 'tip')\n"
   ]
  },
  {
   "cell_type": "markdown",
   "id": "c71a76c7-b032-4f3e-906f-b8ef39ccf8f4",
   "metadata": {},
   "source": [
    "# 8. Write a Python function to calculate the probability density function (PDF) of a continuous random variable for a given normal distribution.\n"
   ]
  },
  {
   "cell_type": "code",
   "execution_count": 1,
   "id": "7e4f97fb-b2de-4137-b63f-8d3d61754877",
   "metadata": {},
   "outputs": [
    {
     "name": "stdout",
     "output_type": "stream",
     "text": [
      "PDF at x=1: 0.24197072451914337\n"
     ]
    }
   ],
   "source": [
    "from scipy.stats import norm\n",
    "\n",
    "# Function to calculate PDF for a normal distribution\n",
    "def calculate_pdf(x, mean, std_dev):\n",
    "    return norm.pdf(x, loc=mean, scale=std_dev)\n",
    "\n",
    "# Example usage\n",
    "mean = 0\n",
    "std_dev = 1\n",
    "x_value = 1\n",
    "pdf_value = calculate_pdf(x_value, mean, std_dev)\n",
    "print(f\"PDF at x={x_value}: {pdf_value}\")\n"
   ]
  },
  {
   "cell_type": "markdown",
   "id": "fe948784-1716-4ab4-8f46-2b75e23aad74",
   "metadata": {},
   "source": [
    "# 9. Create a program to calculate the cumulative distribution function (CDF) of exponential distribution.\n"
   ]
  },
  {
   "cell_type": "code",
   "execution_count": 2,
   "id": "f32b674d-d918-486b-a144-c5d724fae10c",
   "metadata": {},
   "outputs": [
    {
     "name": "stdout",
     "output_type": "stream",
     "text": [
      "CDF at x=1: 0.3934693402873666\n"
     ]
    }
   ],
   "source": [
    "from scipy.stats import expon\n",
    "\n",
    "# Function to calculate CDF for exponential distribution\n",
    "def calculate_exponential_cdf(x, scale):\n",
    "    return expon.cdf(x, scale=scale)\n",
    "\n",
    "# Example usage\n",
    "x_value = 1\n",
    "scale = 2\n",
    "cdf_value = calculate_exponential_cdf(x_value, scale)\n",
    "print(f\"CDF at x={x_value}: {cdf_value}\")\n"
   ]
  },
  {
   "cell_type": "markdown",
   "id": "1cca0a69-2ec9-4ba9-b0d7-be8a4d7c760d",
   "metadata": {},
   "source": [
    "# 10. Write a Python function to calculate the probability mass function (PMF) of Poisson distribution.\n"
   ]
  },
  {
   "cell_type": "code",
   "execution_count": 3,
   "id": "ae197508-5532-4403-bd11-f199cf44a345",
   "metadata": {},
   "outputs": [
    {
     "name": "stdout",
     "output_type": "stream",
     "text": [
      "PMF for k=3, lambda=2: 0.18044704431548356\n"
     ]
    }
   ],
   "source": [
    "from scipy.stats import poisson\n",
    "\n",
    "# Function to calculate PMF for Poisson distribution\n",
    "def calculate_poisson_pmf(k, lam):\n",
    "    return poisson.pmf(k, lam)\n",
    "\n",
    "# Example usage\n",
    "k_value = 3\n",
    "lam = 2\n",
    "pmf_value = calculate_poisson_pmf(k_value, lam)\n",
    "print(f\"PMF for k={k_value}, lambda={lam}: {pmf_value}\")\n"
   ]
  },
  {
   "cell_type": "markdown",
   "id": "e269d506-7bdf-4d7f-a5b0-f8183429fa06",
   "metadata": {},
   "source": [
    "# 11. A company wants to test if a new website layout leads to a higher conversion rate (percentage of visitors who make a purchase). They collect data from the old and new layouts to compare.Apply z-test to find which layout is successful.\n"
   ]
  },
  {
   "cell_type": "code",
   "execution_count": 4,
   "id": "b5e969c9-b1bc-46a6-8b0d-309e296aa326",
   "metadata": {},
   "outputs": [
    {
     "name": "stdout",
     "output_type": "stream",
     "text": [
      "Z-statistic: 1.883837962960912\n",
      "P-value: 0.05958689675745177\n",
      "No significant difference between the layouts.\n"
     ]
    }
   ],
   "source": [
    "import numpy as np\n",
    "from statsmodels.stats.weightstats import ztest\n",
    "\n",
    "# Generate data for old and new layout\n",
    "old_layout = np.array([1] * 50 + [0] * 950)\n",
    "new_layout = np.array([1] * 70 + [0] * 930)\n",
    "\n",
    "# Apply z-test\n",
    "z_stat, p_value = ztest(new_layout, old_layout)\n",
    "print(f\"Z-statistic: {z_stat}\")\n",
    "print(f\"P-value: {p_value}\")\n",
    "\n",
    "if p_value < 0.05:\n",
    "    print(\"The new layout is significantly better.\")\n",
    "else:\n",
    "    print(\"No significant difference between the layouts.\")\n"
   ]
  },
  {
   "cell_type": "markdown",
   "id": "bb60306c-d4f5-40e7-931e-4bf05a679314",
   "metadata": {},
   "source": [
    "# 12. A tutoring service claims that its program improves students' exam scores. A sample of students who  participated in the program was taken, and their scores before and after the program were recorded. Use z-test to find if the claims made by tutor are true or false."
   ]
  },
  {
   "cell_type": "code",
   "execution_count": 5,
   "id": "3c8da5ac-b91f-4a5d-a96b-2c803b30f817",
   "metadata": {},
   "outputs": [
    {
     "name": "stdout",
     "output_type": "stream",
     "text": [
      "Z-statistic: 1.3600371723457605\n",
      "P-value: 0.17381816101827674\n",
      "No significant improvement from the tutoring program.\n"
     ]
    }
   ],
   "source": [
    "import numpy as np\n",
    "from statsmodels.stats.weightstats import ztest\n",
    "\n",
    "# Generate sample data\n",
    "before_program = np.array([75, 80, 85, 70, 90, 78, 92, 88, 82, 87])\n",
    "after_program = np.array([80, 85, 90, 80, 92, 80, 95, 90, 85, 88])\n",
    "\n",
    "# Apply z-test for paired data (difference)\n",
    "z_stat, p_value = ztest(after_program, before_program)\n",
    "print(f\"Z-statistic: {z_stat}\")\n",
    "print(f\"P-value: {p_value}\")\n",
    "\n",
    "if p_value < 0.05:\n",
    "    print(\"The tutoring program is effective.\")\n",
    "else:\n",
    "    print(\"No significant improvement from the tutoring program.\")\n"
   ]
  },
  {
   "cell_type": "markdown",
   "id": "42361235-cc61-4645-80fd-5d8774c08f5a",
   "metadata": {},
   "source": [
    "# 13. A pharmaceutical company wants to determine if a new drug is effective in reducing blood pressure.Implement z-test to find if the drug really works or not.Use the below code to generate samples of respective arrays of blood pressure:before_drug = np.array([145, 150, 140, 135, 155, 160, 152, 148, 130, 138])after_drug = np.array([130, 140, 132, 128, 145, 148, 138, 136, 125, 130])\n"
   ]
  },
  {
   "cell_type": "code",
   "execution_count": 6,
   "id": "4382e6fc-5de5-4879-b1d0-1e9942cbe12e",
   "metadata": {},
   "outputs": [
    {
     "name": "stdout",
     "output_type": "stream",
     "text": [
      "Z-statistic: -2.639577121919447\n",
      "P-value: 0.008300953387191556\n",
      "The drug is effective.\n"
     ]
    }
   ],
   "source": [
    "import numpy as np\n",
    "from statsmodels.stats.weightstats import ztest\n",
    "\n",
    "# Generate sample data\n",
    "before_drug = np.array([145, 150, 140, 135, 155, 160, 152, 148, 130, 138])\n",
    "after_drug = np.array([130, 140, 132, 128, 145, 148, 138, 136, 125, 130])\n",
    "\n",
    "# Apply z-test for paired data (difference)\n",
    "z_stat, p_value = ztest(after_drug, before_drug)\n",
    "print(f\"Z-statistic: {z_stat}\")\n",
    "print(f\"P-value: {p_value}\")\n",
    "\n",
    "if p_value < 0.05:\n",
    "    print(\"The drug is effective.\")\n",
    "else:\n",
    "    print(\"No significant reduction in blood pressure due to the drug.\")\n"
   ]
  },
  {
   "cell_type": "markdown",
   "id": "e2a5f6ca-facb-4b7e-a320-bdc2ce5dd8db",
   "metadata": {},
   "source": [
    "# 14. A customer service department claims that their average response time is less than 5 minutes.Implement z-test to find the claims made by the customer service department are true or false.Use the below code to generate the array of response times:response_times = np.array([4.3, 3.8, 5.1, 4.9, 4.7, 4.2, 5.2, 4.5, 4.6, 4.4])\n"
   ]
  },
  {
   "cell_type": "code",
   "execution_count": 7,
   "id": "22768aec-c545-4dcc-bf54-4cdc56b68a9c",
   "metadata": {},
   "outputs": [
    {
     "name": "stdout",
     "output_type": "stream",
     "text": [
      "Z-statistic: -3.1844572260429627\n",
      "P-value: 0.0014502574226137916\n",
      "The customer service response time is significantly less than 5 minutes.\n"
     ]
    }
   ],
   "source": [
    "import numpy as np\n",
    "from statsmodels.stats.weightstats import ztest\n",
    "\n",
    "# Generate response times\n",
    "response_times = np.array([4.3, 3.8, 5.1, 4.9, 4.7, 4.2, 5.2, 4.5, 4.6, 4.4])\n",
    "\n",
    "# Apply one-sample z-test (mean = 5)\n",
    "z_stat, p_value = ztest(response_times, value=5)\n",
    "print(f\"Z-statistic: {z_stat}\")\n",
    "print(f\"P-value: {p_value}\")\n",
    "\n",
    "if p_value < 0.05:\n",
    "    print(\"The customer service response time is significantly less than 5 minutes.\")\n",
    "else:\n",
    "    print(\"No significant difference in the average response time.\")\n"
   ]
  },
  {
   "cell_type": "markdown",
   "id": "a7ab3462-8ab7-47db-95b3-59a9767fbc40",
   "metadata": {},
   "source": [
    "# 15. A company is testing two different website layouts to see which one leads to higher click-through rates.\n",
    "# Write a Python function to perform an A/B test analysis, including calculating the t-statistic, degrees of freedom, and p-value.Use the following data:layout_a_clicks = [28, 32, 33, 29, 31, 34, 30, 35, 36, 37] layout_b_clicks = [40, 41, 38, 42, 39, 44, 43, 41, 45, 47]\n"
   ]
  },
  {
   "cell_type": "code",
   "execution_count": 8,
   "id": "4beb624f-e555-47ca-b700-0719f91fb28a",
   "metadata": {},
   "outputs": [
    {
     "name": "stdout",
     "output_type": "stream",
     "text": [
      "T-statistic: -7.298102156175071\n",
      "P-value: 8.833437608301987e-07\n",
      "There is a significant difference between the layouts.\n"
     ]
    }
   ],
   "source": [
    "from scipy import stats\n",
    "\n",
    "# Generate click data\n",
    "layout_a_clicks = [28, 32, 33, 29, 31, 34, 30, 35, 36, 37]\n",
    "layout_b_clicks = [40, 41, 38, 42, 39, 44, 43, 41, 45, 47]\n",
    "\n",
    "# Perform t-test\n",
    "t_stat, p_value = stats.ttest_ind(layout_a_clicks, layout_b_clicks)\n",
    "\n",
    "print(f\"T-statistic: {t_stat}\")\n",
    "print(f\"P-value: {p_value}\")\n",
    "\n",
    "if p_value < 0.05:\n",
    "    print(\"There is a significant difference between the layouts.\")\n",
    "else:\n",
    "    print(\"No significant difference between the layouts.\")\n"
   ]
  },
  {
   "cell_type": "markdown",
   "id": "447525cf-937f-4d78-b912-6e4c05dd8401",
   "metadata": {},
   "source": [
    "# 16. A pharmaceutical company wants to determine if a new drug is more effective than an existing drug in \n",
    "# reducing cholesterol levels. Create a program to analyze the clinical trial data and calculate the t-statistic and p-value.\n",
    "# Use the following data:\n",
    "# existing_drug_levels = [180, 182, 175, 185, 178, 176, 172, 184, 179, 183]\n",
    "# new_drug_levels = [170, 172, 165, 168, 175, 173, 170, 178, 172, 176]\n"
   ]
  },
  {
   "cell_type": "code",
   "execution_count": 9,
   "id": "5acc3c18-dca6-4925-b76a-7e1c41385d54",
   "metadata": {},
   "outputs": [
    {
     "name": "stdout",
     "output_type": "stream",
     "text": [
      "T-statistic: 4.14048098620866\n",
      "P-value: 0.0006143398442372505\n",
      "The new drug is significantly more effective in reducing cholesterol levels.\n"
     ]
    }
   ],
   "source": [
    "from scipy import stats\n",
    "\n",
    "# Generate cholesterol level data\n",
    "existing_drug_levels = [180, 182, 175, 185, 178, 176, 172, 184, 179, 183]\n",
    "new_drug_levels = [170, 172, 165, 168, 175, 173, 170, 178, 172, 176]\n",
    "\n",
    "# Perform t-test\n",
    "t_stat, p_value = stats.ttest_ind(existing_drug_levels, new_drug_levels)\n",
    "\n",
    "print(f\"T-statistic: {t_stat}\")\n",
    "print(f\"P-value: {p_value}\")\n",
    "\n",
    "if p_value < 0.05:\n",
    "    print(\"The new drug is significantly more effective in reducing cholesterol levels.\")\n",
    "else:\n",
    "    print(\"No significant difference between the two drugs.\")\n"
   ]
  },
  {
   "cell_type": "markdown",
   "id": "e19539a2-e743-4936-9df3-7fac073834f8",
   "metadata": {},
   "source": [
    "# 17. A school district introduces an educational intervention program to improve math scores.\n",
    "# Write a Python function to analyze pre- and post-intervention test scores, calculating the t-statistic and p-value to determine if the intervention had a significant impact.\n",
    "# Use the following data:\n",
    "# pre_intervention_scores = [80, 85, 90, 75, 88, 82, 92, 78, 85, 87]\n",
    "# post_intervention_scores = [90, 92, 88, 92, 95, 91, 96, 93, 89, 93]\n"
   ]
  },
  {
   "cell_type": "code",
   "execution_count": 10,
   "id": "3d74476e-6bc6-4b79-9a32-917f561536de",
   "metadata": {},
   "outputs": [
    {
     "name": "stdout",
     "output_type": "stream",
     "text": [
      "T-statistic: -4.42840883965761\n",
      "P-value: 0.0016509548165795493\n",
      "The educational intervention had a significant impact on math scores.\n"
     ]
    }
   ],
   "source": [
    "from scipy import stats\n",
    "\n",
    "# Generate pre- and post-intervention test scores\n",
    "pre_intervention_scores = [80, 85, 90, 75, 88, 82, 92, 78, 85, 87]\n",
    "post_intervention_scores = [90, 92, 88, 92, 95, 91, 96, 93, 89, 93]\n",
    "\n",
    "# Perform paired t-test\n",
    "t_stat, p_value = stats.ttest_rel(pre_intervention_scores, post_intervention_scores)\n",
    "\n",
    "print(f\"T-statistic: {t_stat}\")\n",
    "print(f\"P-value: {p_value}\")\n",
    "\n",
    "if p_value < 0.05:\n",
    "    print(\"The educational intervention had a significant impact on math scores.\")\n",
    "else:\n",
    "    print(\"No significant improvement in math scores after the intervention.\")\n"
   ]
  },
  {
   "cell_type": "markdown",
   "id": "89d0b355-a0da-4741-a35c-08f871aa0b41",
   "metadata": {},
   "source": [
    "# 18. An HR department wants to investigate if there's a gender-based salary gap within the company.\n",
    "# Develop a program to analyze salary data, calculate the t-statistic, and determine if there's a statistically significant difference between the average salaries of male and female employees.\n",
    "# Use the below code to generate synthetic data:\n",
    "# np.random.seed(0)\n",
    "# male_salaries = np.random.normal(loc=50000, scale=10000, size=20)\n",
    "# female_salaries = np.random.normal(loc=55000, scale=9000, size=20)\n"
   ]
  },
  {
   "cell_type": "code",
   "execution_count": 11,
   "id": "3360bcab-536f-41a9-a07a-539a933f6d16",
   "metadata": {},
   "outputs": [
    {
     "name": "stdout",
     "output_type": "stream",
     "text": [
      "T-statistic: 0.06114208969631383\n",
      "P-value: 0.9515665020676465\n",
      "No significant gender-based salary gap.\n"
     ]
    }
   ],
   "source": [
    "import numpy as np\n",
    "from scipy import stats\n",
    "\n",
    "# Generate synthetic salary data\n",
    "np.random.seed(0)\n",
    "male_salaries = np.random.normal(loc=50000, scale=10000, size=20)\n",
    "female_salaries = np.random.normal(loc=55000, scale=9000, size=20)\n",
    "\n",
    "# Perform t-test\n",
    "t_stat, p_value = stats.ttest_ind(male_salaries, female_salaries)\n",
    "\n",
    "print(f\"T-statistic: {t_stat}\")\n",
    "print(f\"P-value: {p_value}\")\n",
    "\n",
    "if p_value < 0.05:\n",
    "    print(\"There is a significant gender-based salary gap.\")\n",
    "else:\n",
    "    print(\"No significant gender-based salary gap.\")\n"
   ]
  },
  {
   "cell_type": "markdown",
   "id": "7836643a-2efb-40e9-b01d-a2d91dae6802",
   "metadata": {},
   "source": [
    "# 19. A manufacturer produces two different versions of a product and wants to compare their quality scores.\n",
    "# Create a Python function to analyze quality assessment data, calculate the t-statistic, and decide whether there's a significant difference in quality between the two versions.\n",
    "# Use the following data:\n",
    "# version1_scores = [85, 88, 82, 89, 87, 84, 90, 88, 85, 86, 91, 83, 87, 84, 89, 86, 84, 88, 85, 86, 89, 90, 87, 88, 85]\n",
    "# version2_scores = [80, 78, 83, 81, 79, 82, 76, 80, 78, 81, 77, 82, 80, 79, 82, 79, 80, 81, 79, 82, 79, 78, 80, 81, 82]\n"
   ]
  },
  {
   "cell_type": "code",
   "execution_count": 12,
   "id": "79a6bf9e-d491-4af1-86fa-108d564ddc0c",
   "metadata": {},
   "outputs": [
    {
     "name": "stdout",
     "output_type": "stream",
     "text": [
      "T-statistic: 11.325830417646698\n",
      "P-value: 3.6824250702873965e-15\n",
      "There is a significant difference in quality between the two versions.\n"
     ]
    }
   ],
   "source": [
    "from scipy import stats\n",
    "\n",
    "# Quality assessment data for two versions\n",
    "version1_scores = [85, 88, 82, 89, 87, 84, 90, 88, 85, 86, 91, 83, 87, 84, 89, 86, 84, 88, 85, 86, 89, 90, 87, 88, 85]\n",
    "version2_scores = [80, 78, 83, 81, 79, 82, 76, 80, 78, 81, 77, 82, 80, 79, 82, 79, 80, 81, 79, 82, 79, 78, 80, 81, 82]\n",
    "\n",
    "# Perform t-test\n",
    "t_stat, p_value = stats.ttest_ind(version1_scores, version2_scores)\n",
    "\n",
    "print(f\"T-statistic: {t_stat}\")\n",
    "print(f\"P-value: {p_value}\")\n",
    "\n",
    "if p_value < 0.05:\n",
    "    print(\"There is a significant difference in quality between the two versions.\")\n",
    "else:\n",
    "    print(\"No significant difference in quality between the two versions.\")\n"
   ]
  },
  {
   "cell_type": "markdown",
   "id": "e882968c-953b-4834-bf61-3e9655ab9b87",
   "metadata": {},
   "source": [
    "# 20. A restaurant chain collects customer satisfaction scores for two different branches.\n",
    "# Write a program to analyze the scores, calculate the t-statistic, and determine if there's a statistically significant difference in customer satisfaction between the branches.\n",
    "# Use the below data of scores:\n",
    "# branch_a_scores = [4, 5, 3, 4, 5, 4, 5, 3, 4, 4, 5, 4, 4, 3, 4, 5, 5, 4, 3, 4, 5, 4, 3, 5, 4, 4, 5, 3, 4, 5, 4]\n",
    "# branch_b_scores = [3, 4, 2, 3, 4, 3, 4, 2, 3, 3, 4, 3, 3, 2, 3, 4, 4, 3, 2, 3, 4, 3, 2, 4, 3, 3, 4, 2, 3, 4, 3]\n"
   ]
  },
  {
   "cell_type": "code",
   "execution_count": 13,
   "id": "df4c63ed-732e-44f9-8c24-99b15cc1d476",
   "metadata": {},
   "outputs": [
    {
     "name": "stdout",
     "output_type": "stream",
     "text": [
      "T-statistic: 5.480077554195743\n",
      "P-value: 8.895290509945655e-07\n",
      "There is a significant difference in customer satisfaction between the branches.\n"
     ]
    }
   ],
   "source": [
    "from scipy import stats\n",
    "\n",
    "# Customer satisfaction scores for two branches\n",
    "branch_a_scores = [4, 5, 3, 4, 5, 4, 5, 3, 4, 4, 5, 4, 4, 3, 4, 5, 5, 4, 3, 4, 5, 4, 3, 5, 4, 4, 5, 3, 4, 5, 4]\n",
    "branch_b_scores = [3, 4, 2, 3, 4, 3, 4, 2, 3, 3, 4, 3, 3, 2, 3, 4, 4, 3, 2, 3, 4, 3, 2, 4, 3, 3, 4, 2, 3, 4, 3]\n",
    "\n",
    "# Perform t-test\n",
    "t_stat, p_value = stats.ttest_ind(branch_a_scores, branch_b_scores)\n",
    "\n",
    "print(f\"T-statistic: {t_stat}\")\n",
    "print(f\"P-value: {p_value}\")\n",
    "\n",
    "if p_value < 0.05:\n",
    "    print(\"There is a significant difference in customer satisfaction between the branches.\")\n",
    "else:\n",
    "    print(\"No significant difference in customer satisfaction between the branches.\")\n"
   ]
  },
  {
   "cell_type": "markdown",
   "id": "ac65eea0-5379-4785-aab2-25c8bab4372e",
   "metadata": {},
   "source": [
    "# 21. A political analyst wants to determine if there is a significant association between age groups and voter preferences (Candidate A or Candidate B). Perform a Chi-Square test to determine if there is a significant association.\n",
    "# Use the below code to generate data:\n",
    "# np.random.seed(0)\n",
    "# age_groups = np.random.choice(['18-30', '31-50', '51+', '51+'], size=30)\n",
    "# voter_preferences = np.random.choice(['Candidate A', 'Candidate B'], size=30)\n"
   ]
  },
  {
   "cell_type": "code",
   "execution_count": 15,
   "id": "d21b20ef-b833-432c-a5a3-4192dd357c7f",
   "metadata": {},
   "outputs": [
    {
     "name": "stdout",
     "output_type": "stream",
     "text": [
      "Chi-Square Statistic: 1.4401669758812612\n",
      "P-value: 0.48671161971286614\n",
      "No significant association between age groups and voter preferences.\n"
     ]
    }
   ],
   "source": [
    "import numpy as np\n",
    "from scipy.stats import chi2_contingency\n",
    "import pandas as pd\n",
    "\n",
    "# Generate synthetic data\n",
    "np.random.seed(0)\n",
    "age_groups = np.random.choice(['18-30', '31-50', '51+'], size=30)\n",
    "voter_preferences = np.random.choice(['Candidate A', 'Candidate B'], size=30)\n",
    "\n",
    "# Create a contingency table\n",
    "contingency_table = pd.crosstab(age_groups, voter_preferences)\n",
    "\n",
    "# Perform Chi-Square test\n",
    "chi2, p_value, dof, expected = chi2_contingency(contingency_table)\n",
    "\n",
    "print(f\"Chi-Square Statistic: {chi2}\")\n",
    "print(f\"P-value: {p_value}\")\n",
    "\n",
    "if p_value < 0.05:\n",
    "    print(\"There is a significant association between age groups and voter preferences.\")\n",
    "else:\n",
    "    print(\"No significant association between age groups and voter preferences.\")\n"
   ]
  },
  {
   "cell_type": "markdown",
   "id": "5e087f22-644f-4a90-9a4b-ba5cbabf2b81",
   "metadata": {},
   "source": [
    "# 22. A company conducted a customer satisfaction survey to determine if there is a significant relationship between product satisfaction levels and the region where customers are located.\n",
    "# Conduct a Chi-Square test using the sample data provided below:\n",
    "# data = np.array([[50, 30, 40, 20], [30, 40, 30, 50], [20, 30,40, 30]]) # Sample data: Product satisfaction levels (rows) vs. Customer regions (columns)"
   ]
  },
  {
   "cell_type": "code",
   "execution_count": 1,
   "id": "3362b826-c732-4877-94a8-cbb8aeffa01b",
   "metadata": {},
   "outputs": [
    {
     "name": "stdout",
     "output_type": "stream",
     "text": [
      "Chi-Square Statistic: 27.777056277056275\n",
      "P-value: 0.00010349448486004387\n",
      "There is a significant relationship between product satisfaction levels and customer regions.\n"
     ]
    }
   ],
   "source": [
    "import numpy as np\n",
    "from scipy.stats import chi2_contingency\n",
    "\n",
    "# Sample data: Product satisfaction levels (rows) vs. Customer regions (columns)\n",
    "data = np.array([[50, 30, 40, 20], [30, 40, 30, 50], [20, 30, 40, 30]])\n",
    "\n",
    "# Perform Chi-Square test\n",
    "chi2, p_value, dof, expected = chi2_contingency(data)\n",
    "\n",
    "print(f\"Chi-Square Statistic: {chi2}\")\n",
    "print(f\"P-value: {p_value}\")\n",
    "\n",
    "if p_value < 0.05:\n",
    "    print(\"There is a significant relationship between product satisfaction levels and customer regions.\")\n",
    "else:\n",
    "    print(\"No significant relationship between product satisfaction levels and customer regions.\")\n"
   ]
  },
  {
   "cell_type": "markdown",
   "id": "3c668609-4cdf-4b3b-a9bd-1ab5f1efc153",
   "metadata": {},
   "source": [
    "# 23. A company implemented an employee training program to improve job performance (Effective, Neutral, Ineffective). \n",
    "# After the training, they collected data from a sample of employees and classified them based on their job performance before and after the training.\n",
    "# Perform a Chi-Square test to determine if there is a significant difference between job performance levels before and after the training.\n",
    "# Sample data:\n",
    "# data = np.array([[50, 30, 20], [30, 40, 30], [20, 30, 40]])  # Job performance levels before (rows) and after (columns) training\n"
   ]
  },
  {
   "cell_type": "code",
   "execution_count": 2,
   "id": "2a9f4abd-7a84-4e15-96cd-c457c0b3b06a",
   "metadata": {},
   "outputs": [
    {
     "name": "stdout",
     "output_type": "stream",
     "text": [
      "Chi-Square Statistic: 22.161728395061726\n",
      "P-value: 0.00018609719479882557\n",
      "There is a significant difference between job performance levels before and after the training.\n"
     ]
    }
   ],
   "source": [
    "import numpy as np\n",
    "from scipy.stats import chi2_contingency\n",
    "\n",
    "# Sample data: Job performance levels before (rows) and after (columns) training\n",
    "data = np.array([[50, 30, 20], [30, 40, 30], [20, 30, 40]])\n",
    "\n",
    "# Perform Chi-Square test\n",
    "chi2, p_value, dof, expected = chi2_contingency(data)\n",
    "\n",
    "print(f\"Chi-Square Statistic: {chi2}\")\n",
    "print(f\"P-value: {p_value}\")\n",
    "\n",
    "if p_value < 0.05:\n",
    "    print(\"There is a significant difference between job performance levels before and after the training.\")\n",
    "else:\n",
    "    print(\"No significant difference between job performance levels before and after the training.\")\n"
   ]
  },
  {
   "cell_type": "markdown",
   "id": "c5ae7d9b-9fd6-4282-8a2a-0b7e9d0e2cae",
   "metadata": {},
   "source": [
    "# 24. A company produces three different versions of a product: Standard, Premium, and Deluxe. \n",
    "# The company wants to determine if there is a significant difference in customer satisfaction scores among the three product versions. \n",
    "# Perform an ANOVA test to determine if there is a significant difference in customer satisfaction scores.\n",
    "# Use the following data:\n",
    "# standard_scores = [80, 85, 90, 78, 88, 82, 92, 78, 85, 87]\n",
    "# premium_scores = [90, 92, 88, 92, 95, 91, 96, 93, 89, 93]\n",
    "# deluxe_scores = [95, 98, 92, 97, 96, 94, 98, 97, 92, 99]\n"
   ]
  },
  {
   "cell_type": "code",
   "execution_count": 3,
   "id": "28515b67-f230-4965-960a-b7538517dfc8",
   "metadata": {},
   "outputs": [
    {
     "name": "stdout",
     "output_type": "stream",
     "text": [
      "F-statistic: 27.03556231003039\n",
      "P-value: 3.5786328857349003e-07\n",
      "There is a significant difference in customer satisfaction scores among the three product versions.\n"
     ]
    }
   ],
   "source": [
    "from scipy import stats\n",
    "\n",
    "# Sample data: Customer satisfaction scores for each product version\n",
    "standard_scores = [80, 85, 90, 78, 88, 82, 92, 78, 85, 87]\n",
    "premium_scores = [90, 92, 88, 92, 95, 91, 96, 93, 89, 93]\n",
    "deluxe_scores = [95, 98, 92, 97, 96, 94, 98, 97, 92, 99]\n",
    "\n",
    "# Perform ANOVA test\n",
    "f_stat, p_value = stats.f_oneway(standard_scores, premium_scores, deluxe_scores)\n",
    "\n",
    "print(f\"F-statistic: {f_stat}\")\n",
    "print(f\"P-value: {p_value}\")\n",
    "\n",
    "if p_value < 0.05:\n",
    "    print(\"There is a significant difference in customer satisfaction scores among the three product versions.\")\n",
    "else:\n",
    "    print(\"No significant difference in customer satisfaction scores among the three product versions.\")\n"
   ]
  },
  {
   "cell_type": "code",
   "execution_count": null,
   "id": "ceee87f2-c9a9-4dc3-ae8c-fd36e79e033d",
   "metadata": {},
   "outputs": [],
   "source": []
  }
 ],
 "metadata": {
  "kernelspec": {
   "display_name": "Python 3 (ipykernel)",
   "language": "python",
   "name": "python3"
  },
  "language_info": {
   "codemirror_mode": {
    "name": "ipython",
    "version": 3
   },
   "file_extension": ".py",
   "mimetype": "text/x-python",
   "name": "python",
   "nbconvert_exporter": "python",
   "pygments_lexer": "ipython3",
   "version": "3.10.8"
  }
 },
 "nbformat": 4,
 "nbformat_minor": 5
}
